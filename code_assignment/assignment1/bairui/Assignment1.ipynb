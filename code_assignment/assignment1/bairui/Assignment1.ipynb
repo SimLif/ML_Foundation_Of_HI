{
 "cells": [
  {
   "cell_type": "code",
   "execution_count": 16,
   "metadata": {},
   "outputs": [
    {
     "name": "stdout",
     "output_type": "stream",
     "text": [
      "train size 156060\n"
     ]
    }
   ],
   "source": [
    "#数据预处理\n",
    "import pandas as pd\n",
    "\n",
    "\n",
    "def read_data(train_file=\"dataset/train.tsv\"):\n",
    "    train_df = pd.read_csv(train_file, sep='\\t')\n",
    "    # test_df = pd.read_csv(test_file, sep=\"\\t\")\n",
    "    return train_df[\"Phrase\"].values, train_df[\"Sentiment\"].values\n",
    "\n",
    "if __name__ == \"__main__\":\n",
    "    X_data, y_data = read_data()\n",
    "    print(\"train size\", len(X_data))"
   ]
  },
  {
   "cell_type": "code",
   "execution_count": 17,
   "metadata": {},
   "outputs": [],
   "source": [
    "import numpy as np\n",
    "\n",
    "class BagOfWord:\n",
    "    def __init__(self, do_lower_case=False):\n",
    "        self.vocab = {}\n",
    "        self.do_lower_case = do_lower_case\n",
    "\n",
    "    def fit(self, sent_list):\n",
    "        # sent_list 类型为 List\n",
    "        for sent in sent_list:\n",
    "            if self.do_lower_case:\n",
    "                sent = sent.lower()\n",
    "            words = sent.strip().split(\" \")\n",
    "            for word in words:\n",
    "                if word not in self.vocab:\n",
    "                    self.vocab[word] = len(self.vocab)\n",
    "\n",
    "    def transform(self, sent_list):\n",
    "        vocab_size = len(self.vocab)\n",
    "        bag_of_word_feature = np.zeros((len(sent_list), vocab_size))\n",
    "        for idx, sent in enumerate(sent_list):\n",
    "            if self.do_lower_case:\n",
    "                sent = sent.lower()\n",
    "            words = sent.strip().split(\" \")\n",
    "            for word in words:\n",
    "                bag_of_word_feature[idx][self.vocab[word]] += 1\n",
    "        return bag_of_word_feature\n",
    "\n",
    "    def fit_transform(self, sent_list):\n",
    "        self.fit(sent_list)\n",
    "        return self.transform(sent_list)\n",
    "\n",
    "\n",
    "class NGram:\n",
    "    def __init__(self, ngram, do_lower_case=False):\n",
    "        self.ngram = ngram\n",
    "        self.feature_map = {}\n",
    "        self.do_lower_case = do_lower_case\n",
    "\n",
    "    def fit(self, sentList):\n",
    "        for gram in self.ngram:\n",
    "            for sent in sentList:\n",
    "                if self.do_lower_case:\n",
    "                    sent = sent.lower()\n",
    "                sent = sent.split(\" \")\n",
    "                for i in range(len(sent) - gram + 1):\n",
    "                    feature = \"_\".join(sent[i:i + gram])\n",
    "                    if feature not in self.feature_map:\n",
    "                        self.feature_map[feature] = len(self.feature_map)\n",
    "\n",
    "    def transform(self, sentList):\n",
    "        n = len(sentList)\n",
    "        m = len(self.feature_map)\n",
    "        ngram_feature = np.zeros((n, m))\n",
    "        for idx, sent in enumerate(sentList):\n",
    "            if self.do_lower_case:\n",
    "                sent = sent.lower()\n",
    "            sent = sent.split(\" \")\n",
    "            for gram in self.ngram:\n",
    "                for i in range(len(sent) - gram + 1):\n",
    "                    feature = \"_\".join(sent[i:i + gram])\n",
    "                    if feature in self.feature_map:\n",
    "                        ngram_feature[idx][self.feature_map[feature]] = 1\n",
    "        return ngram_feature\n",
    "\n",
    "    def fit_transform(self, sentList):\n",
    "        self.fit(sentList)\n",
    "        return self.transform(sentList)\n",
    "\n",
    "\n"
   ]
  },
  {
   "cell_type": "code",
   "execution_count": 18,
   "metadata": {},
   "outputs": [],
   "source": [
    "import numpy as np\n",
    "\n",
    "def softmax(z):\n",
    "    # 稳定版本的softmax，对z的每一行进行softmax\n",
    "    z -= np.max(z, axis=1, keepdims=True)  # 先减去该行的最大值\n",
    "    z = np.exp(z)\n",
    "    z /= np.sum(z, axis=1, keepdims=True)\n",
    "    return z\n",
    "\n",
    "class SoftmaxRegression:\n",
    "    def __init__(self):\n",
    "        self.num_of_class = None  # 类别数量\n",
    "        self.n = None   # 数据个数\n",
    "        self.m = None   # 数据维度\n",
    "        self.weight = None  # 模型权重 shape (类别数，数据维度)\n",
    "        self.learning_rate = None\n",
    "\n",
    "    def fit(self, X, y, learning_rate=0.01, epoch=10, num_of_class=5, print_loss_steps=-1, update_strategy=\"batch\"):\n",
    "        self.n, self.m = X.shape\n",
    "        self.num_of_class = num_of_class\n",
    "        self.weight = np.random.randn(self.num_of_class, self.m)\n",
    "        self.learning_rate = learning_rate\n",
    "\n",
    "        # 将y换为独热码矩阵，每一行独热码表示一个label\n",
    "        y_one_hot = np.zeros((self.n, self.num_of_class))\n",
    "        for i in range(self.n):\n",
    "            y_one_hot[i][y[i]] = 1\n",
    "\n",
    "        loss_history = []\n",
    "\n",
    "        for e in range(epoch):\n",
    "            # X (n, m) 每一行表示一个样本\n",
    "            # weight (C, m) 每一行处理一个类别\n",
    "            loss = 0\n",
    "            if update_strategy == \"stochastic\":\n",
    "                rand_index = np.arange(len(X))\n",
    "                np.random.shuffle(rand_index)\n",
    "                for index in list(rand_index):\n",
    "                    Xi = X[index].reshape(1, -1)\n",
    "                    prob = Xi.dot(self.weight.T)\n",
    "                    prob = softmax(prob).flatten()\n",
    "                    loss += -np.log(prob[y[index]])\n",
    "                    self.weight += Xi.reshape(1, self.m).T.dot((y_one_hot[index] - prob).reshape(1, self.num_of_class)).T\n",
    "\n",
    "            if update_strategy == \"batch\":\n",
    "                prob = X.dot(self.weight.T)   # (n, C) 每个样本被预测为各个类别\n",
    "                prob = softmax(prob)\n",
    "\n",
    "                for i in range(self.n):\n",
    "                    loss -= np.log(prob[i][y[i]])\n",
    "\n",
    "                # 书中给的损失函数\n",
    "                weight_update = np.zeros_like(self.weight)\n",
    "                for i in range(self.n):\n",
    "                    weight_update += X[i].reshape(1, self.m).T.dot((y_one_hot[i] - prob[i]).reshape(1, self.num_of_class)).T\n",
    "                self.weight += weight_update * self.learning_rate / self.n\n",
    "\n",
    "            loss /= self.n\n",
    "            loss_history.append(loss)\n",
    "            if print_loss_steps != -1 and e % print_loss_steps == 0:\n",
    "                print(\"epoch {} loss {}\".format(e, loss))\n",
    "        return loss_history\n",
    "\n",
    "    def predict(self, X):\n",
    "        prob = softmax(X.dot(self.weight.T))\n",
    "        return prob.argmax(axis=1)\n",
    "\n",
    "    def score(self, X, y):\n",
    "        pred = self.predict(X)\n",
    "        return np.sum(pred.reshape(y.shape) == y) / y.shape[0]"
   ]
  },
  {
   "cell_type": "code",
   "execution_count": 19,
   "metadata": {},
   "outputs": [
    {
     "name": "stdout",
     "output_type": "stream",
     "text": [
      "Bow shape (1000, 363)\n",
      "Gram shape (1000, 968)\n",
      "epoch 0 loss [3.31975036]\n",
      "epoch 10 loss [1.62211664]\n",
      "epoch 20 loss [1.7196269]\n",
      "epoch 30 loss [1.44989284]\n",
      "epoch 40 loss [1.38371145]\n",
      "epoch 50 loss [1.5085976]\n",
      "epoch 60 loss [1.60540379]\n",
      "epoch 70 loss [1.5564537]\n",
      "epoch 80 loss [1.60100932]\n",
      "epoch 90 loss [1.58555207]\n"
     ]
    },
    {
     "data": {
      "image/png": "[encoded data removed]",
      "text/plain": [
       "<Figure size 432x288 with 1 Axes>"
      ]
     },
     "metadata": {
      "needs_background": "light"
     },
     "output_type": "display_data"
    },
    {
     "name": "stdout",
     "output_type": "stream",
     "text": [
      "Bow train 0.83125 test 0.47\n",
      "epoch 0 loss [3.78462169]\n",
      "epoch 10 loss [1.12569395]\n",
      "epoch 20 loss [0.46344282]\n",
      "epoch 30 loss [0.21945219]\n",
      "epoch 40 loss [0.25551328]\n",
      "epoch 50 loss [0.06632553]\n",
      "epoch 60 loss [0.09212925]\n",
      "epoch 70 loss [0.09075686]\n",
      "epoch 80 loss [0.02039843]\n",
      "epoch 90 loss [0.04294364]\n"
     ]
    },
    {
     "data": {
      "image/png": "[encoded data removed]",
      "text/plain": [
       "<Figure size 432x288 with 1 Axes>"
      ]
     },
     "metadata": {
      "needs_background": "light"
     },
     "output_type": "display_data"
    },
    {
     "name": "stdout",
     "output_type": "stream",
     "text": [
      "Gram train 0.9975 test 0.52\n"
     ]
    }
   ],
   "source": [
    "import numpy as np\n",
    "import matplotlib.pyplot as plt\n",
    "from sklearn.model_selection import train_test_split\n",
    "\n",
    "if __name__ == '__main__':\n",
    "    debug = 1\n",
    "    # 读入数据\n",
    "    X_data, y_data = read_data()\n",
    "\n",
    "    if debug == 1:\n",
    "        # index = np.arange(len(X_data))\n",
    "        # np.random.shuffle(index)\n",
    "        # X_data = X_data[index[:2000]]\n",
    "        # y_data = y_data[index[:2000]]\n",
    "        X_data = X_data[:1000]\n",
    "        y_data = y_data[:1000]\n",
    "    y = np.array(y_data).reshape(len(y_data), 1)\n",
    "\n",
    "    # 数据集划分\n",
    "    bag_of_word_model = BagOfWord(do_lower_case=True)\n",
    "    ngram_model = NGram(ngram=(1, 2), do_lower_case=True)\n",
    "    X_Bow = bag_of_word_model.fit_transform(X_data)\n",
    "    X_Gram = ngram_model.fit_transform(X_data)\n",
    "\n",
    "    print(\"Bow shape\", X_Bow.shape)\n",
    "    print(\"Gram shape\", X_Gram.shape)\n",
    "\n",
    "    X_train_Bow, X_test_Bow, y_train_Bow, y_test_Bow = train_test_split(X_Bow, y, test_size=0.2, random_state=42, stratify=y)\n",
    "    X_train_Gram, X_test_Gram, y_train_Gram, y_test_Gram = train_test_split(X_Gram, y, test_size=0.2, random_state=42, stratify=y)\n",
    "\n",
    "    # 训练模型 不同特征的差别\n",
    "    epoch = 100\n",
    "    bow_learning_rate = 1\n",
    "    gram_learning_rate = 1\n",
    "\n",
    "    # 梯度下降\n",
    "    model1 = SoftmaxRegression()\n",
    "    history = model1.fit(X_train_Bow, y_train_Bow, epoch=epoch, learning_rate=bow_learning_rate, print_loss_steps=epoch//10, update_strategy=\"stochastic\")\n",
    "    plt.plot(np.arange(len(history)), np.array(history))\n",
    "    plt.show()\n",
    "    print(\"Bow train {} test {}\".format(model1.score(X_train_Bow, y_train_Bow), model1.score(X_test_Bow, y_test_Bow)))\n",
    "\n",
    "    model2 = SoftmaxRegression()\n",
    "    history = model2.fit(X_train_Gram, y_train_Gram, epoch=epoch, learning_rate=gram_learning_rate, print_loss_steps=epoch//10, update_strategy=\"stochastic\")\n",
    "    plt.plot(np.arange(len(history)), np.array(history))\n",
    "    plt.show()\n",
    "    print(\"Gram train {} test {}\".format(model2.score(X_train_Gram, y_train_Gram), model2.score(X_test_Gram, y_test_Gram)))"
   ]
  },
  {
   "cell_type": "code",
   "execution_count": null,
   "metadata": {},
   "outputs": [],
   "source": []
  }
 ],
 "metadata": {
  "kernelspec": {
   "display_name": "Python 3",
   "language": "python",
   "name": "python3"
  },
  "language_info": {
   "codemirror_mode": {
    "name": "ipython",
    "version": 3
   },
   "file_extension": ".py",
   "mimetype": "text/x-python",
   "name": "python",
   "nbconvert_exporter": "python",
   "pygments_lexer": "ipython3",
   "version": "3.7.4"
  }
 },
 "nbformat": 4,
 "nbformat_minor": 2
}
